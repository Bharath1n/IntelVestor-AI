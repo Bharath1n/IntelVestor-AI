{
 "cells": [
  {
   "cell_type": "code",
   "execution_count": null,
   "id": "d53c8c86",
   "metadata": {},
   "outputs": [],
   "source": [
    "{\n",
    "  \"cells\": [\n",
    "    {\n",
    "      \"cell_type\": \"code\",\n",
    "      \"source\": [\n",
    "        \"import pandas as pd\\n\",\n",
    "        \"import yfinance as yf\\n\",\n",
    "        \"from sklearn.metrics import mean_squared_error, mean_absolute_percentage_error\\n\",\n",
    "        \"import numpy as np\\n\",\n",
    "        \"\\n\",\n",
    "        \"# Load data\\n\",\n",
    "        \"symbol = 'AXISBANK.NS'\\n\",\n",
    "        \"df = yf.download(symbol, start='2023-01-01', end='2025-09-21')\\n\",\n",
    "        \"df.reset_index(inplace=True)\\n\",\n",
    "        \"\\n\",\n",
    "        \"# Simple evaluation\\n\",\n",
    "        \"train = df.iloc[:-30]\\n\",\n",
    "        \"test = df.iloc[-30:]\\n\",\n",
    "        \"from statsmodels.tsa.arima.model import ARIMA\\n\",\n",
    "        \"model = ARIMA(train['Close'], order=(5,1,0)).fit()\\n\",\n",
    "        \"pred = model.forecast(30)\\n\",\n",
    "        \"rmse = np.sqrt(mean_squared_error(test['Close'], pred))\\n\",\n",
    "        \"mape = mean_absolute_percentage_error(test['Close'], pred)\\n\",\n",
    "        \"print(f'RMSE: {rmse}, MAPE: {mape}')\"\n",
    "      ],\n",
    "      \"metadata\": {},\n",
    "      \"execution_count\": null,\n",
    "      \"outputs\": []\n",
    "    }\n",
    "  ],\n",
    "  \"metadata\": {\n",
    "    \"kernelspec\": {\n",
    "      \"display_name\": \"Python 3\",\n",
    "      \"language\": \"python\",\n",
    "      \"name\": \"python3\"\n",
    "    }\n",
    "  },\n",
    "  \"nbformat\": 4,\n",
    "  \"nbformat_minor\": 5\n",
    "}"
   ]
  }
 ],
 "metadata": {
  "language_info": {
   "name": "python"
  }
 },
 "nbformat": 4,
 "nbformat_minor": 5
}
